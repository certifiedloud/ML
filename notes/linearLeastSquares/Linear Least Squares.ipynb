{
 "cells": [
  {
   "cell_type": "markdown",
   "metadata": {},
   "source": [
    "Suppose we want to ﬁnd the value of x that minimizes:\n",
    "$$ f(x) = \\frac{1}{2}\\lVert Ax - b \\rVert $$\n",
    "\n",
    "First, we need to obtain the gradient:\n",
    "$$ \\nabla_xf(x) = {A}^T(Ax - b) = {A}^TAx - {A}^T - b $$\n",
    "\n",
    "We can then follow this gradient downhill, taking small steps."
   ]
  },
  {
   "cell_type": "code",
   "execution_count": 11,
   "metadata": {
    "collapsed": false
   },
   "outputs": [],
   "source": [
    "from numpy import matrix\n",
    "from numpy.linalg import norm"
   ]
  },
  {
   "cell_type": "code",
   "execution_count": 15,
   "metadata": {
    "collapsed": false
   },
   "outputs": [],
   "source": [
    "A = matrix(\"1 -1; 1 2; 0 0\")\n",
    "b = matrix(\"1;4;2\")\n",
    "x = matrix(\"10;10\")\n",
    "tolerance = .5\n",
    "step = .1"
   ]
  },
  {
   "cell_type": "code",
   "execution_count": 16,
   "metadata": {
    "collapsed": false
   },
   "outputs": [
    {
     "name": "stdout",
     "output_type": "stream",
     "text": [
      "28.1440935189\n",
      "14.0886656572\n",
      "7.75560868017\n",
      "4.95435253187\n",
      "3.63149699442\n",
      "2.87532327787\n",
      "2.34894668215\n",
      "1.93997078845\n",
      "1.60796561755\n",
      "1.33432653341\n",
      "1.10766699179\n",
      "0.919619387508\n",
      "0.763525614909\n",
      "0.633934538818\n",
      "0.526340654891\n",
      "0.437008578998\n"
     ]
    }
   ],
   "source": [
    "count = 0\n",
    "while norm(A.transpose() * A * x - A.transpose() * b) > tolerance:\n",
    "    x = x - step * (A.transpose() * A * x - A.transpose() * b)\n",
    "    print(norm(A.transpose()*A*x-A.transpose()*b))"
   ]
  },
  {
   "cell_type": "code",
   "execution_count": null,
   "metadata": {
    "collapsed": true
   },
   "outputs": [],
   "source": []
  }
 ],
 "metadata": {
  "kernelspec": {
   "display_name": "Python 3",
   "language": "python",
   "name": "python3"
  },
  "language_info": {
   "codemirror_mode": {
    "name": "ipython",
    "version": 3
   },
   "file_extension": ".py",
   "mimetype": "text/x-python",
   "name": "python",
   "nbconvert_exporter": "python",
   "pygments_lexer": "ipython3",
   "version": "3.5.2"
  }
 },
 "nbformat": 4,
 "nbformat_minor": 1
}
